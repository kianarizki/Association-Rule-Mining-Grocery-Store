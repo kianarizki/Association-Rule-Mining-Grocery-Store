{
  "nbformat": 4,
  "nbformat_minor": 0,
  "metadata": {
    "colab": {
      "name": "Apriori Association Rule.ipynb",
      "provenance": [],
      "collapsed_sections": []
    },
    "kernelspec": {
      "name": "python3",
      "display_name": "Python 3"
    },
    "language_info": {
      "name": "python"
    }
  },
  "cells": [
    {
      "cell_type": "code",
      "execution_count": 1,
      "metadata": {
        "colab": {
          "base_uri": "https://localhost:8080/"
        },
        "id": "HRHjLIFmZSlR",
        "outputId": "9695fc30-823a-4779-de05-412791d097c7"
      },
      "outputs": [
        {
          "output_type": "stream",
          "name": "stdout",
          "text": [
            "Looking in indexes: https://pypi.org/simple, https://us-python.pkg.dev/colab-wheels/public/simple/\n",
            "Collecting efficient-apriori\n",
            "  Downloading efficient_apriori-2.0.1-py3-none-any.whl (14 kB)\n",
            "Installing collected packages: efficient-apriori\n",
            "Successfully installed efficient-apriori-2.0.1\n"
          ]
        }
      ],
      "source": [
        "pip install efficient-apriori"
      ]
    },
    {
      "cell_type": "code",
      "source": [
        "#import package\n",
        "from efficient_apriori import apriori"
      ],
      "metadata": {
        "id": "nHxyV9FPaV0z"
      },
      "execution_count": 3,
      "outputs": []
    },
    {
      "cell_type": "code",
      "source": [
        "#buat data transaksi\n",
        "transactions = [('Bread','Milk'),\n",
        "               ('Bread', 'Diaper', 'Beer', 'Eggs'),\n",
        "               ('Milk', 'Diaper', 'Beer', 'Coke'),\n",
        "               ('Bread', 'Milk', 'Diaper', 'Beer'),\n",
        "               ('Bread', 'Milk', 'Diaper', 'Coke')]"
      ],
      "metadata": {
        "id": "1mVoiIfpahMo"
      },
      "execution_count": 5,
      "outputs": []
    },
    {
      "cell_type": "markdown",
      "source": [
        "Pada data di atas terdiri dari 5 row data, dimana setiap row menunjukan satu transaksi pada suatu\n",
        "toko. Sehingga dari data tersebut kita memiliki 5 transaksi.\n"
      ],
      "metadata": {
        "id": "SSwV1wlYb8Av"
      }
    },
    {
      "cell_type": "code",
      "source": [
        "#terapkan algoritma Apriori\n",
        "itemsets, rules = apriori(transactions, min_support= 0.4, min_confidence= 0.6)"
      ],
      "metadata": {
        "id": "ze4FjUPcbGNG"
      },
      "execution_count": 8,
      "outputs": []
    },
    {
      "cell_type": "markdown",
      "source": [
        "Dimana kita set minimum support adalah 0.4 dan minimum confidence adalah 0.6. Setelah itu kita\n",
        "coba tampilkan itemsetsnya dengan ketikkan kode di bawah ini."
      ],
      "metadata": {
        "id": "TkBKfK2kbXwd"
      }
    },
    {
      "cell_type": "code",
      "source": [
        "for j in range(1, len(itemsets)+1):\n",
        "  print(itemsets[j])\n",
        "  print(\"\\n\")"
      ],
      "metadata": {
        "colab": {
          "base_uri": "https://localhost:8080/"
        },
        "id": "9XJqdsnhbWZH",
        "outputId": "5b4979bd-1788-4ae3-faa9-daac13c1b3ac"
      },
      "execution_count": 9,
      "outputs": [
        {
          "output_type": "stream",
          "name": "stdout",
          "text": [
            "{('Bread',): 4, ('Milk',): 4, ('Diaper',): 4, ('Beer',): 3, ('Coke',): 2}\n",
            "\n",
            "\n",
            "{('Beer', 'Bread'): 2, ('Beer', 'Diaper'): 3, ('Beer', 'Milk'): 2, ('Bread', 'Diaper'): 3, ('Bread', 'Milk'): 3, ('Coke', 'Diaper'): 2, ('Coke', 'Milk'): 2, ('Diaper', 'Milk'): 3}\n",
            "\n",
            "\n",
            "{('Beer', 'Bread', 'Diaper'): 2, ('Beer', 'Diaper', 'Milk'): 2, ('Bread', 'Diaper', 'Milk'): 2, ('Coke', 'Diaper', 'Milk'): 2}\n",
            "\n",
            "\n"
          ]
        }
      ]
    },
    {
      "cell_type": "markdown",
      "source": [
        "Selanjutnya jika kita ingin menampilkan association rules yang terbentuk kita bisa ketikkan kode\n",
        "di bawah ini."
      ],
      "metadata": {
        "id": "-1emq-lOcE_z"
      }
    },
    {
      "cell_type": "code",
      "source": [
        "for i in range(len(rules)):\n",
        "  print(rules[i])\n",
        "  print()"
      ],
      "metadata": {
        "colab": {
          "base_uri": "https://localhost:8080/"
        },
        "id": "-gSjhwg9cF03",
        "outputId": "cba36e4e-4e39-4895-f92e-caaa7d6182e7"
      },
      "execution_count": 10,
      "outputs": [
        {
          "output_type": "stream",
          "name": "stdout",
          "text": [
            "{Beer} -> {Bread} (conf: 0.667, supp: 0.400, lift: 0.833, conv: 0.600)\n",
            "\n",
            "{Diaper} -> {Beer} (conf: 0.750, supp: 0.600, lift: 1.250, conv: 1.600)\n",
            "\n",
            "{Beer} -> {Diaper} (conf: 1.000, supp: 0.600, lift: 1.250, conv: 200000000.000)\n",
            "\n",
            "{Beer} -> {Milk} (conf: 0.667, supp: 0.400, lift: 0.833, conv: 0.600)\n",
            "\n",
            "{Diaper} -> {Bread} (conf: 0.750, supp: 0.600, lift: 0.938, conv: 0.800)\n",
            "\n",
            "{Bread} -> {Diaper} (conf: 0.750, supp: 0.600, lift: 0.938, conv: 0.800)\n",
            "\n",
            "{Milk} -> {Bread} (conf: 0.750, supp: 0.600, lift: 0.938, conv: 0.800)\n",
            "\n",
            "{Bread} -> {Milk} (conf: 0.750, supp: 0.600, lift: 0.938, conv: 0.800)\n",
            "\n",
            "{Coke} -> {Diaper} (conf: 1.000, supp: 0.400, lift: 1.250, conv: 200000000.000)\n",
            "\n",
            "{Coke} -> {Milk} (conf: 1.000, supp: 0.400, lift: 1.250, conv: 200000000.000)\n",
            "\n",
            "{Milk} -> {Diaper} (conf: 0.750, supp: 0.600, lift: 0.938, conv: 0.800)\n",
            "\n",
            "{Diaper} -> {Milk} (conf: 0.750, supp: 0.600, lift: 0.938, conv: 0.800)\n",
            "\n",
            "{Bread, Diaper} -> {Beer} (conf: 0.667, supp: 0.400, lift: 1.111, conv: 1.200)\n",
            "\n",
            "{Beer, Diaper} -> {Bread} (conf: 0.667, supp: 0.400, lift: 0.833, conv: 0.600)\n",
            "\n",
            "{Beer, Bread} -> {Diaper} (conf: 1.000, supp: 0.400, lift: 1.250, conv: 200000000.000)\n",
            "\n",
            "{Beer} -> {Bread, Diaper} (conf: 0.667, supp: 0.400, lift: 1.111, conv: 1.200)\n",
            "\n",
            "{Diaper, Milk} -> {Beer} (conf: 0.667, supp: 0.400, lift: 1.111, conv: 1.200)\n",
            "\n",
            "{Beer, Milk} -> {Diaper} (conf: 1.000, supp: 0.400, lift: 1.250, conv: 200000000.000)\n",
            "\n",
            "{Beer, Diaper} -> {Milk} (conf: 0.667, supp: 0.400, lift: 0.833, conv: 0.600)\n",
            "\n",
            "{Beer} -> {Diaper, Milk} (conf: 0.667, supp: 0.400, lift: 1.111, conv: 1.200)\n",
            "\n",
            "{Diaper, Milk} -> {Bread} (conf: 0.667, supp: 0.400, lift: 0.833, conv: 0.600)\n",
            "\n",
            "{Bread, Milk} -> {Diaper} (conf: 0.667, supp: 0.400, lift: 0.833, conv: 0.600)\n",
            "\n",
            "{Bread, Diaper} -> {Milk} (conf: 0.667, supp: 0.400, lift: 0.833, conv: 0.600)\n",
            "\n",
            "{Diaper, Milk} -> {Coke} (conf: 0.667, supp: 0.400, lift: 1.667, conv: 1.800)\n",
            "\n",
            "{Coke, Milk} -> {Diaper} (conf: 1.000, supp: 0.400, lift: 1.250, conv: 200000000.000)\n",
            "\n",
            "{Coke, Diaper} -> {Milk} (conf: 1.000, supp: 0.400, lift: 1.250, conv: 200000000.000)\n",
            "\n",
            "{Coke} -> {Diaper, Milk} (conf: 1.000, supp: 0.400, lift: 1.667, conv: 400000000.000)\n",
            "\n"
          ]
        }
      ]
    },
    {
      "cell_type": "markdown",
      "source": [
        "**Contoh kedua dengan menggunakan data dari csv file:**"
      ],
      "metadata": {
        "id": "Ao9dfCVycPQS"
      }
    },
    {
      "cell_type": "code",
      "source": [
        "import pandas as pd\n",
        "from math import isnan\n",
        "from efficient_apriori import apriori"
      ],
      "metadata": {
        "id": "5x7RjEeLcMAd"
      },
      "execution_count": 11,
      "outputs": []
    },
    {
      "cell_type": "code",
      "source": [
        "from google.colab import drive\n",
        "drive.mount ('/content/drive')"
      ],
      "metadata": {
        "colab": {
          "base_uri": "https://localhost:8080/"
        },
        "id": "sHgC6dhZcsY5",
        "outputId": "633fe12b-0851-4228-ca03-b31897c50e78"
      },
      "execution_count": 12,
      "outputs": [
        {
          "output_type": "stream",
          "name": "stdout",
          "text": [
            "Mounted at /content/drive\n"
          ]
        }
      ]
    },
    {
      "cell_type": "code",
      "source": [
        "# import data\n",
        "store_data = pd.read_csv (\"/content/drive/MyDrive/Dataset/contoh_data.csv\", header=None)\n",
        "store_data.head()"
      ],
      "metadata": {
        "colab": {
          "base_uri": "https://localhost:8080/",
          "height": 285
        },
        "id": "N0i34q5udGs1",
        "outputId": "b6f7bdc3-f9f8-4cad-d86a-3f9944e18dce"
      },
      "execution_count": 38,
      "outputs": [
        {
          "output_type": "execute_result",
          "data": {
            "text/plain": [
              "              0          1           2                 3             4   \\\n",
              "0         shrimp    almonds     avocado    vegetables mix  green grapes   \n",
              "1        burgers  meatballs        eggs               NaN           NaN   \n",
              "2        chutney        NaN         NaN               NaN           NaN   \n",
              "3         turkey    avocado         NaN               NaN           NaN   \n",
              "4  mineral water       milk  energy bar  whole wheat rice     green tea   \n",
              "\n",
              "                 5     6               7             8             9   \\\n",
              "0  whole weat flour  yams  cottage cheese  energy drink  tomato juice   \n",
              "1               NaN   NaN             NaN           NaN           NaN   \n",
              "2               NaN   NaN             NaN           NaN           NaN   \n",
              "3               NaN   NaN             NaN           NaN           NaN   \n",
              "4               NaN   NaN             NaN           NaN           NaN   \n",
              "\n",
              "               10         11     12     13             14      15  \\\n",
              "0  low fat yogurt  green tea  honey  salad  mineral water  salmon   \n",
              "1             NaN        NaN    NaN    NaN            NaN     NaN   \n",
              "2             NaN        NaN    NaN    NaN            NaN     NaN   \n",
              "3             NaN        NaN    NaN    NaN            NaN     NaN   \n",
              "4             NaN        NaN    NaN    NaN            NaN     NaN   \n",
              "\n",
              "                  16               17       18         19  \n",
              "0  antioxydant juice  frozen smoothie  spinach  olive oil  \n",
              "1                NaN              NaN      NaN        NaN  \n",
              "2                NaN              NaN      NaN        NaN  \n",
              "3                NaN              NaN      NaN        NaN  \n",
              "4                NaN              NaN      NaN        NaN  "
            ],
            "text/html": [
              "\n",
              "  <div id=\"df-9a2e5f9c-a12e-4690-bfe2-321fd7a4601b\">\n",
              "    <div class=\"colab-df-container\">\n",
              "      <div>\n",
              "<style scoped>\n",
              "    .dataframe tbody tr th:only-of-type {\n",
              "        vertical-align: middle;\n",
              "    }\n",
              "\n",
              "    .dataframe tbody tr th {\n",
              "        vertical-align: top;\n",
              "    }\n",
              "\n",
              "    .dataframe thead th {\n",
              "        text-align: right;\n",
              "    }\n",
              "</style>\n",
              "<table border=\"1\" class=\"dataframe\">\n",
              "  <thead>\n",
              "    <tr style=\"text-align: right;\">\n",
              "      <th></th>\n",
              "      <th>0</th>\n",
              "      <th>1</th>\n",
              "      <th>2</th>\n",
              "      <th>3</th>\n",
              "      <th>4</th>\n",
              "      <th>5</th>\n",
              "      <th>6</th>\n",
              "      <th>7</th>\n",
              "      <th>8</th>\n",
              "      <th>9</th>\n",
              "      <th>10</th>\n",
              "      <th>11</th>\n",
              "      <th>12</th>\n",
              "      <th>13</th>\n",
              "      <th>14</th>\n",
              "      <th>15</th>\n",
              "      <th>16</th>\n",
              "      <th>17</th>\n",
              "      <th>18</th>\n",
              "      <th>19</th>\n",
              "    </tr>\n",
              "  </thead>\n",
              "  <tbody>\n",
              "    <tr>\n",
              "      <th>0</th>\n",
              "      <td>shrimp</td>\n",
              "      <td>almonds</td>\n",
              "      <td>avocado</td>\n",
              "      <td>vegetables mix</td>\n",
              "      <td>green grapes</td>\n",
              "      <td>whole weat flour</td>\n",
              "      <td>yams</td>\n",
              "      <td>cottage cheese</td>\n",
              "      <td>energy drink</td>\n",
              "      <td>tomato juice</td>\n",
              "      <td>low fat yogurt</td>\n",
              "      <td>green tea</td>\n",
              "      <td>honey</td>\n",
              "      <td>salad</td>\n",
              "      <td>mineral water</td>\n",
              "      <td>salmon</td>\n",
              "      <td>antioxydant juice</td>\n",
              "      <td>frozen smoothie</td>\n",
              "      <td>spinach</td>\n",
              "      <td>olive oil</td>\n",
              "    </tr>\n",
              "    <tr>\n",
              "      <th>1</th>\n",
              "      <td>burgers</td>\n",
              "      <td>meatballs</td>\n",
              "      <td>eggs</td>\n",
              "      <td>NaN</td>\n",
              "      <td>NaN</td>\n",
              "      <td>NaN</td>\n",
              "      <td>NaN</td>\n",
              "      <td>NaN</td>\n",
              "      <td>NaN</td>\n",
              "      <td>NaN</td>\n",
              "      <td>NaN</td>\n",
              "      <td>NaN</td>\n",
              "      <td>NaN</td>\n",
              "      <td>NaN</td>\n",
              "      <td>NaN</td>\n",
              "      <td>NaN</td>\n",
              "      <td>NaN</td>\n",
              "      <td>NaN</td>\n",
              "      <td>NaN</td>\n",
              "      <td>NaN</td>\n",
              "    </tr>\n",
              "    <tr>\n",
              "      <th>2</th>\n",
              "      <td>chutney</td>\n",
              "      <td>NaN</td>\n",
              "      <td>NaN</td>\n",
              "      <td>NaN</td>\n",
              "      <td>NaN</td>\n",
              "      <td>NaN</td>\n",
              "      <td>NaN</td>\n",
              "      <td>NaN</td>\n",
              "      <td>NaN</td>\n",
              "      <td>NaN</td>\n",
              "      <td>NaN</td>\n",
              "      <td>NaN</td>\n",
              "      <td>NaN</td>\n",
              "      <td>NaN</td>\n",
              "      <td>NaN</td>\n",
              "      <td>NaN</td>\n",
              "      <td>NaN</td>\n",
              "      <td>NaN</td>\n",
              "      <td>NaN</td>\n",
              "      <td>NaN</td>\n",
              "    </tr>\n",
              "    <tr>\n",
              "      <th>3</th>\n",
              "      <td>turkey</td>\n",
              "      <td>avocado</td>\n",
              "      <td>NaN</td>\n",
              "      <td>NaN</td>\n",
              "      <td>NaN</td>\n",
              "      <td>NaN</td>\n",
              "      <td>NaN</td>\n",
              "      <td>NaN</td>\n",
              "      <td>NaN</td>\n",
              "      <td>NaN</td>\n",
              "      <td>NaN</td>\n",
              "      <td>NaN</td>\n",
              "      <td>NaN</td>\n",
              "      <td>NaN</td>\n",
              "      <td>NaN</td>\n",
              "      <td>NaN</td>\n",
              "      <td>NaN</td>\n",
              "      <td>NaN</td>\n",
              "      <td>NaN</td>\n",
              "      <td>NaN</td>\n",
              "    </tr>\n",
              "    <tr>\n",
              "      <th>4</th>\n",
              "      <td>mineral water</td>\n",
              "      <td>milk</td>\n",
              "      <td>energy bar</td>\n",
              "      <td>whole wheat rice</td>\n",
              "      <td>green tea</td>\n",
              "      <td>NaN</td>\n",
              "      <td>NaN</td>\n",
              "      <td>NaN</td>\n",
              "      <td>NaN</td>\n",
              "      <td>NaN</td>\n",
              "      <td>NaN</td>\n",
              "      <td>NaN</td>\n",
              "      <td>NaN</td>\n",
              "      <td>NaN</td>\n",
              "      <td>NaN</td>\n",
              "      <td>NaN</td>\n",
              "      <td>NaN</td>\n",
              "      <td>NaN</td>\n",
              "      <td>NaN</td>\n",
              "      <td>NaN</td>\n",
              "    </tr>\n",
              "  </tbody>\n",
              "</table>\n",
              "</div>\n",
              "      <button class=\"colab-df-convert\" onclick=\"convertToInteractive('df-9a2e5f9c-a12e-4690-bfe2-321fd7a4601b')\"\n",
              "              title=\"Convert this dataframe to an interactive table.\"\n",
              "              style=\"display:none;\">\n",
              "        \n",
              "  <svg xmlns=\"http://www.w3.org/2000/svg\" height=\"24px\"viewBox=\"0 0 24 24\"\n",
              "       width=\"24px\">\n",
              "    <path d=\"M0 0h24v24H0V0z\" fill=\"none\"/>\n",
              "    <path d=\"M18.56 5.44l.94 2.06.94-2.06 2.06-.94-2.06-.94-.94-2.06-.94 2.06-2.06.94zm-11 1L8.5 8.5l.94-2.06 2.06-.94-2.06-.94L8.5 2.5l-.94 2.06-2.06.94zm10 10l.94 2.06.94-2.06 2.06-.94-2.06-.94-.94-2.06-.94 2.06-2.06.94z\"/><path d=\"M17.41 7.96l-1.37-1.37c-.4-.4-.92-.59-1.43-.59-.52 0-1.04.2-1.43.59L10.3 9.45l-7.72 7.72c-.78.78-.78 2.05 0 2.83L4 21.41c.39.39.9.59 1.41.59.51 0 1.02-.2 1.41-.59l7.78-7.78 2.81-2.81c.8-.78.8-2.07 0-2.86zM5.41 20L4 18.59l7.72-7.72 1.47 1.35L5.41 20z\"/>\n",
              "  </svg>\n",
              "      </button>\n",
              "      \n",
              "  <style>\n",
              "    .colab-df-container {\n",
              "      display:flex;\n",
              "      flex-wrap:wrap;\n",
              "      gap: 12px;\n",
              "    }\n",
              "\n",
              "    .colab-df-convert {\n",
              "      background-color: #E8F0FE;\n",
              "      border: none;\n",
              "      border-radius: 50%;\n",
              "      cursor: pointer;\n",
              "      display: none;\n",
              "      fill: #1967D2;\n",
              "      height: 32px;\n",
              "      padding: 0 0 0 0;\n",
              "      width: 32px;\n",
              "    }\n",
              "\n",
              "    .colab-df-convert:hover {\n",
              "      background-color: #E2EBFA;\n",
              "      box-shadow: 0px 1px 2px rgba(60, 64, 67, 0.3), 0px 1px 3px 1px rgba(60, 64, 67, 0.15);\n",
              "      fill: #174EA6;\n",
              "    }\n",
              "\n",
              "    [theme=dark] .colab-df-convert {\n",
              "      background-color: #3B4455;\n",
              "      fill: #D2E3FC;\n",
              "    }\n",
              "\n",
              "    [theme=dark] .colab-df-convert:hover {\n",
              "      background-color: #434B5C;\n",
              "      box-shadow: 0px 1px 3px 1px rgba(0, 0, 0, 0.15);\n",
              "      filter: drop-shadow(0px 1px 2px rgba(0, 0, 0, 0.3));\n",
              "      fill: #FFFFFF;\n",
              "    }\n",
              "  </style>\n",
              "\n",
              "      <script>\n",
              "        const buttonEl =\n",
              "          document.querySelector('#df-9a2e5f9c-a12e-4690-bfe2-321fd7a4601b button.colab-df-convert');\n",
              "        buttonEl.style.display =\n",
              "          google.colab.kernel.accessAllowed ? 'block' : 'none';\n",
              "\n",
              "        async function convertToInteractive(key) {\n",
              "          const element = document.querySelector('#df-9a2e5f9c-a12e-4690-bfe2-321fd7a4601b');\n",
              "          const dataTable =\n",
              "            await google.colab.kernel.invokeFunction('convertToInteractive',\n",
              "                                                     [key], {});\n",
              "          if (!dataTable) return;\n",
              "\n",
              "          const docLinkHtml = 'Like what you see? Visit the ' +\n",
              "            '<a target=\"_blank\" href=https://colab.research.google.com/notebooks/data_table.ipynb>data table notebook</a>'\n",
              "            + ' to learn more about interactive tables.';\n",
              "          element.innerHTML = '';\n",
              "          dataTable['output_type'] = 'display_data';\n",
              "          await google.colab.output.renderOutput(dataTable, element);\n",
              "          const docLink = document.createElement('div');\n",
              "          docLink.innerHTML = docLinkHtml;\n",
              "          element.appendChild(docLink);\n",
              "        }\n",
              "      </script>\n",
              "    </div>\n",
              "  </div>\n",
              "  "
            ]
          },
          "metadata": {},
          "execution_count": 38
        }
      ]
    },
    {
      "cell_type": "code",
      "source": [
        "#cek tipe data\n",
        "store_data.dtypes"
      ],
      "metadata": {
        "colab": {
          "base_uri": "https://localhost:8080/"
        },
        "id": "JSJfO56ydzy-",
        "outputId": "3da739e6-1543-4e6e-83d3-d61433164673"
      },
      "execution_count": 39,
      "outputs": [
        {
          "output_type": "execute_result",
          "data": {
            "text/plain": [
              "0     object\n",
              "1     object\n",
              "2     object\n",
              "3     object\n",
              "4     object\n",
              "5     object\n",
              "6     object\n",
              "7     object\n",
              "8     object\n",
              "9     object\n",
              "10    object\n",
              "11    object\n",
              "12    object\n",
              "13    object\n",
              "14    object\n",
              "15    object\n",
              "16    object\n",
              "17    object\n",
              "18    object\n",
              "19    object\n",
              "dtype: object"
            ]
          },
          "metadata": {},
          "execution_count": 39
        }
      ]
    },
    {
      "cell_type": "code",
      "source": [
        "# Setelah itu kita ubah data yang bertipe dataframe ke tipe data tuple. Karena untuk library apriori\n",
        "# hanya dapat menggunakan data yang bertipe tuple.\n",
        "store_data = [tuple(row) for row in store_data.values.tolist()]\n",
        "print(store_data)\n",
        "print(\"\\n\")"
      ],
      "metadata": {
        "colab": {
          "base_uri": "https://localhost:8080/"
        },
        "id": "izacsKKrdPIB",
        "outputId": "b6efb917-174b-42b9-d7af-0b64af1e7966"
      },
      "execution_count": 40,
      "outputs": [
        {
          "output_type": "stream",
          "name": "stdout",
          "text": [
            "[('shrimp', 'almonds', 'avocado', 'vegetables mix', 'green grapes', 'whole weat flour', 'yams', 'cottage cheese', 'energy drink', 'tomato juice', 'low fat yogurt', 'green tea', 'honey', 'salad', 'mineral water', 'salmon', 'antioxydant juice', 'frozen smoothie', 'spinach', 'olive oil'), ('burgers', 'meatballs', 'eggs', nan, nan, nan, nan, nan, nan, nan, nan, nan, nan, nan, nan, nan, nan, nan, nan, nan), ('chutney', nan, nan, nan, nan, nan, nan, nan, nan, nan, nan, nan, nan, nan, nan, nan, nan, nan, nan, nan), ('turkey', 'avocado', nan, nan, nan, nan, nan, nan, nan, nan, nan, nan, nan, nan, nan, nan, nan, nan, nan, nan), ('mineral water', 'milk', 'energy bar', 'whole wheat rice', 'green tea', nan, nan, nan, nan, nan, nan, nan, nan, nan, nan, nan, nan, nan, nan, nan), ('low fat yogurt', nan, nan, nan, nan, nan, nan, nan, nan, nan, nan, nan, nan, nan, nan, nan, nan, nan, nan, nan), ('whole wheat pasta', 'french fries', nan, nan, nan, nan, nan, nan, nan, nan, nan, nan, nan, nan, nan, nan, nan, nan, nan, nan), ('soup', 'light cream', 'shallot', nan, nan, nan, nan, nan, nan, nan, nan, nan, nan, nan, nan, nan, nan, nan, nan, nan), ('frozen vegetables', 'spaghetti', 'green tea', nan, nan, nan, nan, nan, nan, nan, nan, nan, nan, nan, nan, nan, nan, nan, nan, nan), ('french fries', nan, nan, nan, nan, nan, nan, nan, nan, nan, nan, nan, nan, nan, nan, nan, nan, nan, nan, nan)]\n",
            "\n",
            "\n"
          ]
        }
      ]
    },
    {
      "cell_type": "code",
      "source": [
        "# lakukan praproses data dengan menghilangkan data yang bertipe float dan jika data tersebut NaN values.\n",
        "for y in range(0,len(store_data)):\n",
        "  store_data[y] = [x for x in store_data[y] if not (\n",
        "      type(x) == float #drop semua nilai float\n",
        "      and isnan(x) \n",
        "  )]\n",
        "print(store_data)\n",
        "print(\"\\n\")"
      ],
      "metadata": {
        "colab": {
          "base_uri": "https://localhost:8080/"
        },
        "id": "lEGBRp53doFk",
        "outputId": "344aece0-0b2f-42e9-ed30-fafcab0d8b96"
      },
      "execution_count": 41,
      "outputs": [
        {
          "output_type": "stream",
          "name": "stdout",
          "text": [
            "[['shrimp', 'almonds', 'avocado', 'vegetables mix', 'green grapes', 'whole weat flour', 'yams', 'cottage cheese', 'energy drink', 'tomato juice', 'low fat yogurt', 'green tea', 'honey', 'salad', 'mineral water', 'salmon', 'antioxydant juice', 'frozen smoothie', 'spinach', 'olive oil'], ['burgers', 'meatballs', 'eggs'], ['chutney'], ['turkey', 'avocado'], ['mineral water', 'milk', 'energy bar', 'whole wheat rice', 'green tea'], ['low fat yogurt'], ['whole wheat pasta', 'french fries'], ['soup', 'light cream', 'shallot'], ['frozen vegetables', 'spaghetti', 'green tea'], ['french fries']]\n",
            "\n",
            "\n"
          ]
        }
      ]
    },
    {
      "cell_type": "markdown",
      "source": [
        "Selajutnya kita cari association rulesnya dari data tersebut, seperti pada kode dibawah"
      ],
      "metadata": {
        "id": "-uPEHVAte22x"
      }
    },
    {
      "cell_type": "code",
      "source": [
        "#terapkan algoritma Apriori\n",
        "itemsets, rules = apriori(store_data, min_support= 0.2, min_confidence= 0.5)\n",
        "\n",
        "for i in range(len(rules)):\n",
        "  print(rules[i])\n",
        "  print()"
      ],
      "metadata": {
        "colab": {
          "base_uri": "https://localhost:8080/"
        },
        "id": "0JWFwIVIdw-N",
        "outputId": "b0fd8c16-097e-4714-9a3a-b92b6b4d8b5c"
      },
      "execution_count": 42,
      "outputs": [
        {
          "output_type": "stream",
          "name": "stdout",
          "text": [
            "{mineral water} -> {green tea} (conf: 1.000, supp: 0.200, lift: 3.333, conv: 700000000.000)\n",
            "\n",
            "{green tea} -> {mineral water} (conf: 0.667, supp: 0.200, lift: 3.333, conv: 2.400)\n",
            "\n"
          ]
        }
      ]
    },
    {
      "cell_type": "markdown",
      "source": [
        "**Analisa Hasil:**\n",
        "\n",
        "Dari hasil association rule untuk data transaksi yang ada, dapat disimpulkan bahwa pembelian\n",
        "mineral water dan grean tea secara bersamaan memiliki support 0.2 yang artinya terdapat 20%\n",
        "penjualan dari seuruh transaksi. Sedangkan berdasarkan confidence setiap pembelian mineral\n",
        "water maka 100% akan membeli grean tea karena confidence = 1.0. Namun setiap pembelian\n",
        "green tea maka ada kemungkinan 66.7% akan membeli mineral water karena confidence 0.667."
      ],
      "metadata": {
        "id": "q5bhdJGGgYiS"
      }
    }
  ]
}